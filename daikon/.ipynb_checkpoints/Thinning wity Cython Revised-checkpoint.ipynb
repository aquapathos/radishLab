{
 "cells": [
  {
   "cell_type": "markdown",
   "metadata": {},
   "source": [
    "# 細線化プログラム 　cython ver.\n",
    "細線化プログラムの cython による高速化バージョンです\n",
    "\n",
    "自作ライブラリ thinningR が同じフォルダ内に必要です。\n",
    "jupyter では ライブラリのファイルは非表示になっていますので、ライブラリのファイルを移動させたりコピーしたりしたい場合はコマンドラインで操作する必要があります。\n"
   ]
  },
  {
   "cell_type": "code",
   "execution_count": 5,
   "metadata": {
    "collapsed": false
   },
   "outputs": [
    {
     "name": "stdout",
     "output_type": "stream",
     "text": [
      "(480, 640, 3)\n"
     ]
    },
    {
     "data": {
      "image/png": "[encoded data removed]",
      "text/plain": [
       "<matplotlib.figure.Figure at 0x7f39d6b66c50>"
      ]
     },
     "metadata": {},
     "output_type": "display_data"
    },
    {
     "name": "stdout",
     "output_type": "stream",
     "text": [
      "(453, 467)\n",
      "(447, 463)\n",
      "(443, 457)\n",
      "(437, 451)\n",
      "(432, 444)\n",
      "(424, 438)\n",
      "(420, 434)\n",
      "(416, 428)\n",
      "(411, 422)\n",
      "(406, 418)\n",
      "(399, 413)\n",
      "(393, 406)\n",
      "(387, 400)\n",
      "(381, 393)\n",
      "(376, 386)\n",
      "(368, 376)\n",
      "(363, 370)\n",
      "(358, 362)\n",
      "(353, 351)\n",
      "(345, 339)\n",
      "(335, 326)\n",
      "(308, 287)\n",
      "(267, 233)\n",
      "(202, 142)\n",
      "(32, 0)\n",
      "(0, 0)\n",
      "0.7900083065032959 秒\n"
     ]
    },
    {
     "data": {
      "image/png": "[encoded data removed]",
      "text/plain": [
       "<matplotlib.figure.Figure at 0x7f39d6baac88>"
      ]
     },
     "metadata": {},
     "output_type": "display_data"
    }
   ],
   "source": [
    "# -*- coding: utf-8 -*-\n",
    "import cv2\n",
    "import numpy as np\n",
    "import sys\n",
    "import time\n",
    "\n",
    "%matplotlib inline\n",
    "import numpy as np\n",
    "import matplotlib.pyplot as plt\n",
    "import random\n",
    "plt.hold(False)\n",
    "\n",
    "from thinningR import getSkelline\n",
    "\n",
    "# 処理対象画像\n",
    "filename = \"bindaikon.png\"\n",
    "\n",
    "# 画像表示用関数ååå\n",
    "# グレイ画像の表示\n",
    "def pltgry(img):\n",
    "    plt.axis('off')\n",
    "    plt.imshow(cv2.cvtColor(img,cv2.COLOR_GRAY2RGB))\n",
    "    plt.show()\n",
    "\n",
    "# カラー画像の表示\n",
    "def pltcol(img):\n",
    "    plt.axis('off')\n",
    "    plt.imshow(cv2.cvtColor(img,cv2.COLOR_BGR2RGB))\n",
    "    plt.show()\n",
    "\n",
    "src = cv2.imread(filename,1)\n",
    "print(src.shape)\n",
    "plt.hold(False)\n",
    "pltcol(src)\n",
    "if src is None:\n",
    "    sys.exit()\n",
    "bw = cv2.cvtColor(src, cv2.COLOR_BGR2GRAY)\n",
    "_, bw2 = cv2.threshold(bw, 10, 255, cv2.THRESH_BINARY)\n",
    "start = time.time()\n",
    "bw2 = (getSkelline(bw2))\n",
    "bw3 = bw2.astype('uint8')\n",
    "print((time.time()-start),\"秒\")\n",
    "pltgry(bw3)\n"
   ]
  },
  {
   "cell_type": "code",
   "execution_count": null,
   "metadata": {
    "collapsed": true
   },
   "outputs": [],
   "source": []
  }
 ],
 "metadata": {
  "anaconda-cloud": {},
  "kernelspec": {
   "display_name": "Python [default]",
   "language": "python",
   "name": "python3"
  },
  "language_info": {
   "codemirror_mode": {
    "name": "ipython",
    "version": 3
   },
   "file_extension": ".py",
   "mimetype": "text/x-python",
   "name": "python",
   "nbconvert_exporter": "python",
   "pygments_lexer": "ipython3",
   "version": "3.5.2"
  }
 },
 "nbformat": 4,
 "nbformat_minor": 1
}
