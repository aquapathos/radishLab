{
 "cells": [
  {
   "cell_type": "markdown",
   "metadata": {},
   "source": [
    "# 端点から最大勾配方向へ向かって山登りすることで芯線を求める\n",
    "[1] から順に実行していってください。（実行は シフトを押しながらEnter）"
   ]
  },
  {
   "cell_type": "code",
   "execution_count": 1,
   "metadata": {
    "collapsed": false
   },
   "outputs": [
    {
     "data": {
      "image/png": "[encoded data removed]",
      "text/plain": [
       "<matplotlib.figure.Figure at 0x7fd54849f710>"
      ]
     },
     "metadata": {},
     "output_type": "display_data"
    }
   ],
   "source": [
    "import radishlib as rdl\n",
    "import cv2\n",
    "%matplotlib inline\n",
    "# %matplotlib notebook\n",
    "import numpy as np\n",
    "import matplotlib.pyplot as plt\n",
    "from copy import copy\n",
    "\n",
    "# 表示のオンオフ\n",
    "IMGON = True\n",
    "\n",
    "# 処理対象画像\n",
    "imgfile = 'pics/cabubw.png'\n",
    "# 表示のオンオフ\n",
    "IMGON = True\n",
    "\n",
    "# カラー画像の読み込み\n",
    "src = cv2.imread(imgfile,0) \n",
    "gry = cv2.imread(imgfile,0)\n",
    "\n",
    "# 同じ画像をグレー画像として読み込み\n",
    "rdl.paraimage(src,gry)"
   ]
  },
  {
   "cell_type": "code",
   "execution_count": 2,
   "metadata": {
    "cell_style": "center",
    "collapsed": false,
    "scrolled": true
   },
   "outputs": [],
   "source": [
    "thres = 80  # しきい値８０　で２階調化　　この値はこの実験画像限定\n",
    "ret,bw=cv2.threshold(gry,thres,255,cv2.THRESH_BINARY)\n",
    "\n",
    "kernel = np.ones((5,5),np.uint8)\n",
    "# 白のゴミ取り　を２回実行\n",
    "bw=cv2.morphologyEx(bw,cv2.MORPH_OPEN, kernel,iterations = 2)\n",
    "# 黒のゴミ取りを２回実行\n",
    "bw=cv2.morphologyEx(bw,cv2.MORPH_CLOSE, kernel,iterations = 2)"
   ]
  },
  {
   "cell_type": "code",
   "execution_count": 3,
   "metadata": {
    "collapsed": false
   },
   "outputs": [
    {
     "name": "stdout",
     "output_type": "stream",
     "text": [
      "2 (714, 1662) [198091 988577] (2, 2)\n"
     ]
    },
    {
     "data": {
      "image/png": "[encoded data removed]",
      "text/plain": [
       "<matplotlib.figure.Figure at 0x7fd51ace1668>"
      ]
     },
     "metadata": {},
     "output_type": "display_data"
    }
   ],
   "source": [
    "# 黒連結成分のラベリング \n",
    "output = cv2.connectedComponentsWithStats(~bw, connectivity = 8)\n",
    "# Get the results\n",
    "num_labels = output[0]  # 連結成分の数\n",
    "labels = output[1] # ラベル画像\n",
    "stats = output[2] # 属性情報の配列　cv2.CC_STAT_AREA番が面積me\n",
    "menseki = stats[:,cv2.CC_STAT_AREA]\n",
    "centroids = output[3]\n",
    "print(num_labels,labels.shape,menseki,centroids.shape)\n",
    "\n",
    "# 小領域の削除　　画像の縦の長さ＋横の長さより小さい面積の領域は無視する\n",
    "img= np.zeros(gry.shape,dtype=np.uint8)\n",
    "for i in range(1,num_labels ):\n",
    "        if  stats[i][cv2.CC_STAT_AREA] > gry.shape[0]+gry.shape[1]:\n",
    "            wb = img + np.uint8(labels==i)*255\n",
    "bw = ~wb        \n",
    "rdl.plotimg(bw)"
   ]
  },
  {
   "cell_type": "code",
   "execution_count": 4,
   "metadata": {
    "collapsed": true
   },
   "outputs": [],
   "source": [
    "# 結果確認のために色付け\n",
    "import random\n",
    "\n",
    "# ラベリングして色割当する関数\n",
    "def showlabelimage(labels, num_labels):\n",
    "    dst = copy.copy(src)\n",
    "    colors = []\n",
    "    for i in range(1, num_labels+1):\n",
    "        colors.append(np.array([random.randint(100, 255), random.randint(0, 255), random.randint(0, 255)]))\n",
    "    for y in range(0, labels.shape[0]):\n",
    "        for x in range(0, labels.shape[1]):\n",
    "            if labels[y, x] > 0:\n",
    "                dst[y, x] = colors[labels[y, x]]\n",
    "            else:\n",
    "                dst[y, x] = [0, 0, 0]\n",
    "    return dst"
   ]
  },
  {
   "cell_type": "code",
   "execution_count": 5,
   "metadata": {
    "collapsed": false,
    "scrolled": true
   },
   "outputs": [
    {
     "name": "stdout",
     "output_type": "stream",
     "text": [
      "2 (714, 1662) [988577 198091] (2, 2)\n"
     ]
    },
    {
     "data": {
      "image/png": "[encoded data removed]",
      "text/plain": [
       "<matplotlib.figure.Figure at 0x7fd51ac076a0>"
      ]
     },
     "metadata": {},
     "output_type": "display_data"
    }
   ],
   "source": [
    "# 白連結成分のラベリング \n",
    "output = cv2.connectedComponentsWithStats(ｂｗ, connectivity = 4)  # 白領域の場合は４連結処理であることに注意\n",
    "# Get the results\n",
    "num_labels = output[0]  # 連結成分の数\n",
    "labels = output[1] # ラベル画像\n",
    "stats = output[2] # 属性情報の配列　cv2.CC_STAT_AREA番が面積me\n",
    "menseki = stats[:,cv2.CC_STAT_AREA]\n",
    "centroids = output[3]\n",
    "print(num_labels,labels.shape,menseki,centroids.shape)\n",
    "#  白連結成分にラベルをつけて表示してみる分かりやすく\n",
    "# dst = showlabelimage(labels,num_labels)\n",
    "dst = rdl.color2label(labels,num_labels)\n",
    "rdl.plotimg(dst)"
   ]
  },
  {
   "cell_type": "code",
   "execution_count": 6,
   "metadata": {
    "collapsed": false
   },
   "outputs": [
    {
     "name": "stdout",
     "output_type": "stream",
     "text": [
      "[0] [988577 198091] 0\n"
     ]
    },
    {
     "data": {
      "image/png": "[encoded data removed]",
      "text/plain": [
       "<matplotlib.figure.Figure at 0x7fd51abd2438>"
      ]
     },
     "metadata": {},
     "output_type": "display_data"
    }
   ],
   "source": [
    "# 1番大きな領域がダイコンの主要部分であると仮定する。\n",
    "sortedindex = menseki[1:].argsort()[::-1]  # ０番以外をソーティングしたときの値の多い順に index を並べたもの\n",
    "dnum = sortedindex[0] # 1番多いデータのインデックス。\n",
    "print(sortedindex,menseki,dnum)\n",
    "# 最も大きな領域のみの画像を生成\n",
    "daikonimg = np.uint8(labels==dnum+1)*255\n",
    "\n",
    "rdl.plotimg(daikonimg)"
   ]
  },
  {
   "cell_type": "code",
   "execution_count": 7,
   "metadata": {
    "collapsed": false
   },
   "outputs": [
    {
     "name": "stdout",
     "output_type": "stream",
     "text": [
      "最大距離の画像位置(x,y) = ( 1124 , 368 ),  maxR=  223.397\n"
     ]
    }
   ],
   "source": [
    "# 距離画像変換　　各白画素について，最も近い黒画素までの距離をデータとする画像を生成\n",
    "dist = cv2.distanceTransform(daikonimg,cv2.DIST_L2,5)\n",
    "\n",
    "# 最大の距離は？　　　これが最大半径となる\n",
    "maxR = np.max(dist)\n",
    "maxPn = np.argmax(dist)\n",
    "maxY = int(maxPn/dist.shape[1])\n",
    "maxX = maxPn - maxY*dist.shape[1]\n",
    "print(\"最大距離の画像位置(x,y) = (\",maxX, \",\",maxY,\"),  maxR= \", maxR)"
   ]
  },
  {
   "cell_type": "code",
   "execution_count": 8,
   "metadata": {
    "collapsed": false
   },
   "outputs": [
    {
     "data": {
      "image/png": "[encoded data removed]",
      "text/plain": [
       "<matplotlib.figure.Figure at 0x7fd51abc8518>"
      ]
     },
     "metadata": {},
     "output_type": "display_data"
    }
   ],
   "source": [
    "# 輪郭線の抽出\n",
    "bw,pts = rdl.getContour(daikonimg,0)\n",
    "xdata = [i[0][0]  for i in ｐｔｓ[0]]\n",
    "ydata = [i[0][1]  for i in pts[0]]   \n",
    "\n",
    "# 輪郭データの重複を取り除く\n",
    "pts =  []\n",
    "for i in range(len(xdata)):\n",
    "    if [xdata[i],ydata[i]] not in pts:\n",
    "        pts.append([xdata[i],ydata[i]] )\n",
    "cpts = np.array(pts)\n",
    "\n",
    "# plt.gca().set_aspect('equal',adjustable='box')\n",
    "# plt.plot(cｐｔs[:,0],cpts[:,1],\"r\")\n",
    "rdl.plotimg(rdl.drawRadishContour(daikonimg, cpts, 3,0,10))\n"
   ]
  },
  {
   "cell_type": "markdown",
   "metadata": {},
   "source": [
    "＃　参考 \n",
    "- [点列から曲率、曲率半径を求める（FastCode）](http://sach1o.blog80.fc2.com/blog-entry-96.html)\n",
    "- http://d.hatena.ne.jp/ryamada/20141109/1415495218\n",
    "\n",
    "![](http://blog-imgs-27.fc2.com/s/a/c/sach1o/discrete_curvature.gif)"
   ]
  },
  {
   "cell_type": "markdown",
   "metadata": {
    "collapsed": false
   },
   "source": [
    "```\n",
    "# 各連続３点それぞれについて３つのベクトルを求める\n",
    "def curvature(pts, samples = 100):\n",
    "    sd = int(len(pts)/samples)\n",
    "    v1 = pts[0:-2*sd:sd] - pts[sd:-sd:sd]  # P[i-1] - P[i]   （のリスト　　以下省略）\n",
    "    v2 = pts[2*sd::sd] - pts[sd:-sd:sd]  # P[i +1]- P[i]   \n",
    "    v3 = pts[2*sd::sd] - pts[0:-2*sd:sd] # p[i+1]-P[i-1]\n",
    "    # ベクトルのノルム（長さ）を求める\n",
    "    v1s = np.array([np.sqrt(np.dot(v1[i],v1[i]))  for i in range(len(v1))]) #  V1 のノルム（長さ）\n",
    "    v2s = np.array([np.sqrt(np.dot(v2[i],v2[i]))  for i in range(len(v2))]) # V２ のノルム（長さ）\n",
    "    v3s = np.array([np.sqrt(np.dot(v3[i],v3[i]))  for i in range(len(v3))]) # V３ のノルム（長さ）　　\n",
    "\n",
    "    ppp = v1s*v2s*v3s # ３辺の長さの積（のリスト）\n",
    "\n",
    "    ｃｐ = np.zeros(len(v1)) # 外積のノルムの大きさ格納用配列\n",
    "    cp = np.abs(np.cross(v2, v1))\n",
    "\n",
    "    # 曲率を求める\n",
    "    #    cv = np.zeros(len(pts)) \n",
    "    # cv[sd:-sd] = 2*cp[sd:-sd]/ppp\n",
    "    cv = np.zeros(len(v1)) \n",
    "    cv = 2*cp/ppp\n",
    "    \n",
    "    dl = np.zeros(len(v3s))  # 折れ線にそって測った距離\n",
    "    dl = [np.sum(v3s[0:i]) for i in range(len(dl))]\n",
    "    pt =pts[sd:-sd:sd]\n",
    "    \n",
    "    cvmaxind = np.argmax(cv)\n",
    "    tip = pt[cvmaxind]\n",
    "    print(\"曲率最大の点は\",cvmaxind,\"番のサンプル点で、曲率は\",  cv[cvmaxind],\"座標は\", tip)\n",
    "    \n",
    "    return pt, dl , cv, tip  \n",
    "    # pt: サンプル点,  \n",
    "    # dl : サンプルの始点から測った折れ線近似された輪郭に沿って各点までの距離\n",
    "    # cv: 距離率のリスト\n",
    " ```"
   ]
  },
  {
   "cell_type": "code",
   "execution_count": 9,
   "metadata": {
    "collapsed": false,
    "scrolled": false
   },
   "outputs": [
    {
     "name": "stdout",
     "output_type": "stream",
     "text": [
      "曲率最大の点は 34 番のサンプル点で、曲率は 0.0752896303938 座標は [287 342]\n"
     ]
    },
    {
     "data": {
      "text/plain": [
       "[<matplotlib.lines.Line2D at 0x7fd51a785518>]"
      ]
     },
     "execution_count": 9,
     "metadata": {},
     "output_type": "execute_result"
    },
    {
     "data": {
      "image/png": "[encoded data removed]",
      "text/plain": [
       "<matplotlib.figure.Figure at 0x7fd51ac7eeb8>"
      ]
     },
     "metadata": {},
     "output_type": "display_data"
    }
   ],
   "source": [
    "samples, curvelength, cvs, tippoint = rdl.curvature(cpts,samples=100)\n",
    "len(samples), len(cvs), len(curvelength), tippoint,len(pts)\n",
    "plt.plot(curvelength,cvs,\"r\")"
   ]
  },
  {
   "cell_type": "code",
   "execution_count": 10,
   "metadata": {
    "collapsed": false
   },
   "outputs": [],
   "source": [
    "dist2 = copy(dist)\n",
    "skel = np.array(rdl.traceRidges1(tippoint[0],tippoint[1],0,dist2, 5))\n",
    "skeldata = skel[skel[:,1].argsort()]    # この画像は大根が横向きなので，スケルトンを y の昇順に並べ替える"
   ]
  },
  {
   "cell_type": "code",
   "execution_count": 22,
   "metadata": {
    "collapsed": false,
    "scrolled": false
   },
   "outputs": [
    {
     "data": {
      "text/plain": [
       "1382.0"
      ]
     },
     "execution_count": 22,
     "metadata": {},
     "output_type": "execute_result"
    }
   ],
   "source": [
    "np.max(skeldata)"
   ]
  },
  {
   "cell_type": "code",
   "execution_count": 11,
   "metadata": {
    "collapsed": false,
    "scrolled": false
   },
   "outputs": [
    {
     "data": {
      "image/png": "[encoded data removed]",
      "text/plain": [
       "<matplotlib.figure.Figure at 0x7fd51ac6ab38>"
      ]
     },
     "metadata": {},
     "output_type": "display_data"
    }
   ],
   "source": [
    "recallimg = rdl.skel2img(skeldata,src.shape)\n",
    "rdl.plotimg(recallimg)"
   ]
  },
  {
   "cell_type": "code",
   "execution_count": 12,
   "metadata": {
    "collapsed": false,
    "scrolled": true
   },
   "outputs": [
    {
     "name": "stdout",
     "output_type": "stream",
     "text": [
      "1124.0 368.0\n",
      "1096\n",
      "376.0 342.0\n",
      "837\n"
     ]
    }
   ],
   "source": [
    "skd = skeldata\n",
    "# 黒画素から最も距離のある，内部の点を基準点として選ぶ\n",
    "normP = np.argmax(skd[:,2])\n",
    "xnorm = skd[normP][1]\n",
    "ynorm = skd[normP][0]\n",
    "print (xnorm,ynorm)\n",
    "print (len(skd))\n",
    "print(np.max(skd[:,0]), np.max(skd[:1]))\n",
    "print(normP)"
   ]
  },
  {
   "cell_type": "code",
   "execution_count": 13,
   "metadata": {
    "collapsed": false
   },
   "outputs": [
    {
     "name": "stdout",
     "output_type": "stream",
     "text": [
      "基準点 837 ( 1124.0 368.0 )\n"
     ]
    }
   ],
   "source": [
    "# 基準点からの距離の配列を生成\n",
    "distance = np.array([np.sign(x-xnorm)*np.sqrt((x-xnorm)**2 + (y - ynorm)**2)  for (y,x) in skd[:,0:2]] ) \n",
    "# 横向きの画像の場合は sign を x で決めるべきだが，縦ならば yに変えるべき\n",
    "\n",
    "#基準点からの距離でインデックスを並べ替え\n",
    "index = np.argsort(distance) # 距離順にインデックスを並べ替え\n",
    "skd = skd[index] # スケルトンデータを距離順に並べ替え\n",
    "distance = distance[index] # 距離データも並べ替え\n",
    "skdp = np.array([ list(np.append(s,d)) for (s,d) in zip(skd,distance)])\n",
    "# skpd はスケルトンの(y座標,x座標,輪郭までの距離,基準点からの距離)のリスト\n",
    "\n",
    "#  並べ替えたので基準点のインデックスを再度調べ直す\n",
    "normP = np.argmax(skd[:,2])\n",
    "print (u'基準点',normP,'(',xnorm,ynorm,')')\n"
   ]
  },
  {
   "cell_type": "markdown",
   "metadata": {},
   "source": [
    "（解説）径の一番太い位置の中心を基準点 normP として選び、その点からの距離でスケルトン画素を並べ換える。\n",
    "もしスケルトンが直線状に並んでいるのならば求めた距離は中心軸に沿った距離に等しいが、湾曲している場合、\n",
    "基準点からの直線距離と軸に沿って測った距離は基準から離れるほどズレが生じてくる。\n",
    "\n",
    "形状を評価する場合、湾曲を補正した形状を求める必要があるが、それには直線距離ではなく、\n",
    "軸に沿って測った距離を使うほうが適切である。\n",
    "\n",
    "理屈の上では軸に沿って距離を積分、つまり積算していけばよいが、デジタル画像の場合近い点の距離は誤差が大きい。\n",
    "例えば斜め45度に並ぶ点列の距離は1点ずつ距離を積算してしまうと実際の距離のルート２倍になってしまう。\n",
    "\n",
    "そこで、曲がりが少ないであろう、１０点ごとに距離を測る基準点を設定し、\n",
    "（基準点間距離＋最寄りの基準点からの距離）で、軸に沿った距離を近似する。"
   ]
  },
  {
   "cell_type": "code",
   "execution_count": 15,
   "metadata": {
    "collapsed": false
   },
   "outputs": [
    {
     "name": "stdout",
     "output_type": "stream",
     "text": [
      "左側修正量 8.59322627404515 (-837.4037258097196 -> -845.9969520837648)\n",
      "右側修正量 18.104959134600733 (268.4026825499328 -> 286.50764168453355)\n"
     ]
    }
   ],
   "source": [
    "rdl.recalcDistanceP(skdp,normP)"
   ]
  },
  {
   "cell_type": "code",
   "execution_count": 16,
   "metadata": {
    "collapsed": false,
    "scrolled": false
   },
   "outputs": [
    {
     "data": {
      "image/png": "[encoded data removed]",
      "text/plain": [
       "<matplotlib.figure.Figure at 0x7fd51a6fb9b0>"
      ]
     },
     "metadata": {},
     "output_type": "display_data"
    }
   ],
   "source": [
    "# @interact(invert=False)\n",
    "def radiusfunc(invert=True):\n",
    "    if invert:\n",
    "        for d in skdp: d[3]=-d[3]\n",
    "    skdN = skdp[skdp[:,3]<= 0] # 基準点より左のデータ\n",
    "    skdP = skdp[skdp[:,3] > 0] # 基準点より右のデータ\n",
    "    \n",
    "    # 横軸を基点からのスケルトン位置までの距離，縦軸をそのスケルトンの距離データとしたグラフ                          \n",
    "    plt.axis('equal')    \n",
    "    plt.hold(True)\n",
    "    ydata = np.array(skdN[:,2])\n",
    "    xdata = np.array(skdN[:,3])\n",
    "    plt.plot(xdata,ydata,'-',color=(1,0,0.0))\n",
    "    plt.plot(xdata,-ydata,'-',color=(1,0,0.0))\n",
    "    ydata = np.array(skdP[:,2])\n",
    "    xdata = np.array(skdP[:,3])\n",
    "    plt.plot(xdata,ydata,'-',color=(0,0,1.0))\n",
    "    plt.plot(xdata,-ydata,'-',color=(0,0,1.0))\n",
    "    plt.hold(False)\n",
    "    plt.show()\n",
    "    \n",
    "    # invert で再描画する際には、グラフの描画を一旦停止すること。\n",
    "    # 停止しないと描画されないので注意。\n",
    "    \n",
    "radiusfunc(invert=False)"
   ]
  },
  {
   "cell_type": "code",
   "execution_count": 18,
   "metadata": {
    "collapsed": false,
    "scrolled": false
   },
   "outputs": [
    {
     "name": "stdout",
     "output_type": "stream",
     "text": [
      "中心軸の画素数=1096\n"
     ]
    },
    {
     "data": {
      "image/png": "[encoded data removed]",
      "text/plain": [
       "<matplotlib.figure.Figure at 0x7fd51a746940>"
      ]
     },
     "metadata": {},
     "output_type": "display_data"
    }
   ],
   "source": [
    "# 中心線を直線化して形状整形した画像の生成\n",
    "norzimg = rdl.makeNormalizedImage(skdp)\n",
    "rdl.plotimg(norzimg)"
   ]
  },
  {
   "cell_type": "code",
   "execution_count": 35,
   "metadata": {
    "collapsed": false,
    "scrolled": true
   },
   "outputs": [
    {
     "data": {
      "image/png": "[encoded data removed]",
      "text/plain": [
       "<matplotlib.figure.Figure at 0x7f9346c28c50>"
      ]
     },
     "metadata": {},
     "output_type": "display_data"
    }
   ],
   "source": [
    "# 輪郭線の抽出\n",
    "bw,cnt = rdl.getContour(norzimg,0)\n",
    "cv2.drawContours(bw, cnt, 0, (255,255,255), 1)\n",
    "rdl.plotimg(bw)"
   ]
  },
  {
   "cell_type": "code",
   "execution_count": 19,
   "metadata": {
    "collapsed": false
   },
   "outputs": [
    {
     "data": {
      "text/plain": [
       "[<matplotlib.lines.Line2D at 0x7fd51a5b62b0>]"
      ]
     },
     "execution_count": 19,
     "metadata": {},
     "output_type": "execute_result"
    },
    {
     "data": {
      "image/png": "[encoded data removed]",
      "text/plain": [
       "<matplotlib.figure.Figure at 0x7fd51ac2c898>"
      ]
     },
     "metadata": {},
     "output_type": "display_data"
    }
   ],
   "source": [
    "# 先端部分だけの点列の生成\n",
    "bw,cnt = rdl.getContour(norzimg,2)\n",
    "xdata = [i[0][0]  for i in cnt[0]]\n",
    "ydata = [i[0][1]- bw.shape[0]/2 for i in cnt[0]] \n",
    "plt.gca().set_aspect('equal',adjustable='box')\n",
    "plt.plot(xdata,ydata,\"r\")"
   ]
  },
  {
   "cell_type": "code",
   "execution_count": 21,
   "metadata": {
    "collapsed": false,
    "scrolled": false
   },
   "outputs": [
    {
     "data": {
      "text/plain": [
       "[<matplotlib.lines.Line2D at 0x7fd51a504080>]"
      ]
     },
     "execution_count": 21,
     "metadata": {},
     "output_type": "execute_result"
    },
    {
     "data": {
      "image/png": "[encoded data removed]",
      "text/plain": [
       "<matplotlib.figure.Figure at 0x7fd51a59c4a8>"
      ]
     },
     "metadata": {},
     "output_type": "display_data"
    }
   ],
   "source": [
    "# 最大径を基準に正規化\n",
    "xdataR = np.array(xdata)/maxR \n",
    "ydataR= np.array(ydata)/maxR\n",
    "xdataR,ydataR = rdl.shiftX(xdataR,ydataR,1/3)    # y = 1/3 付近が x=0 になるようにデータ全体をｘ軸に沿ってシフト\n",
    "plt.gca().set_aspect('equal',adjustable='box')\n",
    "plt.plot(xdataR,ydataR,\"r\")"
   ]
  },
  {
   "cell_type": "code",
   "execution_count": 23,
   "metadata": {
    "collapsed": false,
    "scrolled": false
   },
   "outputs": [
    {
     "name": "stdout",
     "output_type": "stream",
     "text": [
      "    0:(a,b,err) = (    0.0853,    0.0000,     0.1014)\n",
      "  200:(a,b,err) = (    3.0862,    0.0801,     0.0048)\n",
      "  400:(a,b,err) = (    3.8847,    0.1090,     0.0015)\n",
      "  600:(a,b,err) = (    4.2826,    0.1166,     0.0007)\n",
      "  800:(a,b,err) = (    4.5167,    0.1198,     0.0004)\n",
      " 1000:(a,b,err) = (    4.6655,    0.1215,     0.0003)\n",
      " 1200:(a,b,err) = (    4.7642,    0.1224,     0.0002)\n",
      " 1400:(a,b,err) = (    4.8313,    0.1230,     0.0002)\n",
      " 1600:(a,b,err) = (    4.8778,    0.1234,     0.0002)\n",
      " 1800:(a,b,err) = (    4.9104,    0.1236,     0.0002)\n",
      " 2000:(a,b,err) = (    4.9334,    0.1238,     0.0002)\n"
     ]
    },
    {
     "data": {
      "image/png": "[encoded data removed]",
      "text/plain": [
       "<matplotlib.figure.Figure at 0x7fd5096cfd68>"
      ]
     },
     "metadata": {},
     "output_type": "display_data"
    }
   ],
   "source": [
    "from fit1 import fit1\n",
    "fit1((xdataR,ydataR),itr = 2000, alpha=1.0, xmin=-3, xmax=1,cutoff=0.2)\n",
    "\n",
    "# 原因はわからないが，１度目は描画に失敗するようである．２回目はうまくいく．"
   ]
  },
  {
   "cell_type": "code",
   "execution_count": null,
   "metadata": {
    "collapsed": true
   },
   "outputs": [],
   "source": []
  }
 ],
 "metadata": {
  "_draft": {
   "nbviewer_url": "https://gist.github.com/bbaabe676dc7c65fa48c92cf4a65077a"
  },
  "anaconda-cloud": {},
  "gist": {
   "data": {
    "description": "daikon/ダイコン形状抽出＆記述 インタラクティブ版 smart .ipynb",
    "public": true
   },
   "id": "bbaabe676dc7c65fa48c92cf4a65077a"
  },
  "kernelspec": {
   "display_name": "Python [default]",
   "language": "python",
   "name": "python3"
  },
  "language_info": {
   "codemirror_mode": {
    "name": "ipython",
    "version": 3
   },
   "file_extension": ".py",
   "mimetype": "text/x-python",
   "name": "python",
   "nbconvert_exporter": "python",
   "pygments_lexer": "ipython3",
   "version": "3.5.2"
  },
  "latex_envs": {
   "bibliofile": "biblio.bib",
   "cite_by": "apalike",
   "current_citInitial": 1,
   "eqLabelWithNumbers": true,
   "eqNumInitial": 0
  }
 },
 "nbformat": 4,
 "nbformat_minor": 0
}
