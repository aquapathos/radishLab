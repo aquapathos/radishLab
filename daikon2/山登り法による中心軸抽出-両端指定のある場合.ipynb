{
 "cells": [
  {
   "cell_type": "markdown",
   "metadata": {},
   "source": [
    "# 端点から最大勾配方向へ向かって山登りすることで芯線を求める　両端指定バージョン\n",
    "[1] から順に実行していってください。（実行は シフトを押しながらEnter）"
   ]
  },
  {
   "cell_type": "code",
   "execution_count": 2,
   "metadata": {
    "scrolled": false
   },
   "outputs": [
    {
     "data": {
      "image/png": "[encoded data removed]",
      "text/plain": [
       "<matplotlib.figure.Figure at 0x110e7afd0>"
      ]
     },
     "metadata": {},
     "output_type": "display_data"
    }
   ],
   "source": [
    "import radishlib as rdl\n",
    "import cv2\n",
    "%matplotlib inline\n",
    "# %matplotlib notebook\n",
    "import numpy as np\n",
    "import matplotlib.pyplot as plt\n",
    "from copy import copy\n",
    "\n",
    "# 表示のオンオフ\n",
    "IMGON = True\n",
    "\n",
    "# from __future__ import print_function\n",
    "# 処理対象画像\n",
    "#srcfile = 'pics/cabumarked.png'\n",
    "#bwfile = 'pics/cabubw.png'\n",
    "srcfile = 'pics/horyou2c6kRMarked.jpg'\n",
    "bwfile = 'pics/horyou2c6kR.jpg'\n",
    "\n",
    "# 表示のオンオフ\n",
    "IMGON = True\n",
    "\n",
    "marks = cv2.imread(srcfile,0)\n",
    "bw = cv2.imread(bwfile,0)\n",
    "# jpeg 等の画像は 完全2値化されていないので、念のために2値化しておく\n",
    "_,bw=cv2.threshold(bw,128,255,cv2.THRESH_BINARY)\n",
    "\n",
    "# 表示のオンオフ\n",
    "IMGON = True\n",
    "rdl.paraimage(marks,bw)"
   ]
  },
  {
   "cell_type": "markdown",
   "metadata": {},
   "source": [
    "前提として\n",
    "- 画像は2階調化されている\n",
    "- 白領域が１つしかない\n",
    "- 横向きで、左が先\n",
    "- 同じ画像に対して2点がマークされた画像を用意する。\n",
    "\n",
    "例\n",
    "<img src=\"pics/greendots.jpg\" width=\"450\">\n",
    "\n",
    "[PIXLR]https://pixlr.com/editor/ \n",
    "\n",
    "マークは白と黒の中間的な明るさがよい。カラーを使うなら緑色がご抽出されにくい。"
   ]
  },
  {
   "cell_type": "code",
   "execution_count": 3,
   "metadata": {},
   "outputs": [
    {
     "name": "stdout",
     "output_type": "stream",
     "text": [
      "最大距離の画像位置(x,y) = ( 2700 , 475 ),  maxR=  203.13\n"
     ]
    },
    {
     "data": {
      "image/png": "[encoded data removed]",
      "text/plain": [
       "<matplotlib.figure.Figure at 0x111b3deb8>"
      ]
     },
     "metadata": {},
     "output_type": "display_data"
    }
   ],
   "source": [
    "# 距離画像変換　　各白画素について，最も近い黒画素までの距離をデータとする画像を生成\n",
    "dist = cv2.distanceTransform(bw,cv2.DIST_L2,5)\n",
    "\n",
    "# 最大の距離は？　　　これが最大半径となる\n",
    "maxR = np.max(dist)\n",
    "maxPn = np.argmax(dist)\n",
    "maxY = int(maxPn/dist.shape[1])\n",
    "maxX = maxPn - maxY*dist.shape[1]\n",
    "print(\"最大距離の画像位置(x,y) = (\",maxX, \",\",maxY,\"),  maxR= \", maxR)\n",
    "\n",
    "showimg = cv2.cvtColor(bw,cv2.COLOR_GRAY2BGR)\n",
    "cv2.circle(showimg,(maxX,maxY),maxR,(255,128,128),3)\n",
    "showimg = cv2.circle(showimg,(maxX,maxY),int(maxR/10),(0,0,255),-1)\n",
    "rdl.plotimg(showimg)"
   ]
  },
  {
   "cell_type": "code",
   "execution_count": 4,
   "metadata": {},
   "outputs": [],
   "source": [
    "# 輪郭線データの抽出\n",
    "ctimg,pts = rdl.getContour(bw,0)\n",
    "\n",
    "# 確認のための描画\n",
    "ｃｔx = [i[0][0]  for i in ｐｔｓ[0]]\n",
    "cty = [i[0][1]  for i in pts[0]]   \n",
    "\n",
    "# 輪郭データの重複を取り除く\n",
    "pts =  []\n",
    "for i in range(len(ctx)):\n",
    "    if [ctx[i],cty[i]] not in pts:\n",
    "        pts.append([ctx[i],cty[i]] )\n",
    "cpts = np.array(pts)"
   ]
  },
  {
   "cell_type": "code",
   "execution_count": 5,
   "metadata": {},
   "outputs": [
    {
     "data": {
      "image/png": "[encoded data removed]",
      "text/plain": [
       "<matplotlib.figure.Figure at 0x111bac7b8>"
      ]
     },
     "metadata": {},
     "output_type": "display_data"
    },
    {
     "data": {
      "image/png": "[encoded data removed]",
      "text/plain": [
       "<matplotlib.figure.Figure at 0x12dba9080>"
      ]
     },
     "metadata": {},
     "output_type": "display_data"
    },
    {
     "data": {
      "image/png": "[encoded data removed]",
      "text/plain": [
       "<matplotlib.figure.Figure at 0x130457c88>"
      ]
     },
     "metadata": {},
     "output_type": "display_data"
    }
   ],
   "source": [
    "# 確認のために描画\n",
    "rdl.plotimg(rdl.drawRadishContour(ctimg, cpts, 2,6,10,100,True))\n",
    "plt.show()\n",
    "\n",
    "ctrimg = rdl.drawRadishContour(ctimg, cpts)\n",
    "rdl.plotimg(ctrimg)\n",
    "plt.show()\n",
    "\n",
    "# 100は黄色の点の標本間隔、2,6,10　はそれぞれ白、黄色、赤点（開始点）の大きさ\n",
    "\n",
    "plt.show()\n",
    "# 参考として距離画像も描画\n",
    "rdl.plotimg(dist/np.max(dist))"
   ]
  },
  {
   "cell_type": "code",
   "execution_count": 6,
   "metadata": {
    "scrolled": true
   },
   "outputs": [
    {
     "name": "stdout",
     "output_type": "stream",
     "text": [
      "マーク領域を抽出\n"
     ]
    },
    {
     "data": {
      "image/png": "[encoded data removed]",
      "text/plain": [
       "<matplotlib.figure.Figure at 0x1304c82b0>"
      ]
     },
     "metadata": {},
     "output_type": "display_data"
    },
    {
     "name": "stdout",
     "output_type": "stream",
     "text": [
      "マーク領域と図形の重なり部分のみを抽出\n"
     ]
    },
    {
     "data": {
      "image/png": "[encoded data removed]",
      "text/plain": [
       "<matplotlib.figure.Figure at 0x106c6d8d0>"
      ]
     },
     "metadata": {},
     "output_type": "display_data"
    }
   ],
   "source": [
    "# マーク画像からマークの部分を見つける\n",
    "\n",
    "_,marks2 =  cv2.threshold(marks, 200,255, cv2.THRESH_TOZERO_INV)\n",
    "_,marks2 =  cv2.threshold(marks2, 50,255, cv2.THRESH_BINARY)\n",
    "\n",
    "#　抽出されたマークを確認\n",
    "print(\"マーク領域を抽出\")\n",
    "rdl.plotimg(marks2)  \n",
    "plt.show()\n",
    "\n",
    "# マーク領域のうち、画像と重なっている部分のみを取り出す\n",
    "print(\"マーク領域と図形の重なり部分のみを抽出\")\n",
    "marks3 = cv2.bitwise_and(marks2,bw)\n",
    "rdl.plotimg(marks3)"
   ]
  },
  {
   "cell_type": "code",
   "execution_count": 7,
   "metadata": {},
   "outputs": [
    {
     "name": "stdout",
     "output_type": "stream",
     "text": [
      "重心1= (608 223) 　最寄りの輪郭点= (593, 223)  \n",
      "重心2= (2896 453) 　最寄りの輪郭点= (2907, 450) \n"
     ]
    }
   ],
   "source": [
    "# ２つのマークの重心を求める。 \n",
    "output = cv2.connectedComponentsWithStats(marks3, connectivity = 8)  \n",
    "centroids = output[3]  # 連結成分の重心のリスト\n",
    "\n",
    "g1x = int(centroids[1][0])\n",
    "g1y = int(centroids[1][1])\n",
    "g2x = int(centroids[2][0])\n",
    "g2y = int(centroids[2][1])\n",
    "\n",
    "# 輪郭線データ cpts の中で最も重心に近い点を選ぶ\n",
    "dtmp = np.ndarray((cpts.shape),dtype=np.uint32)\n",
    "dtmp = [(g1x - i[0])**2+(g1y - i[1])**2 for i in cpts]\n",
    "tmpidx = np.argmin(dtmp)\n",
    "s1x = cpts[tmpidx][0]\n",
    "s1y = cpts[tmpidx][1]\n",
    "dtmp = [(g2x - i[0])**2+(g2y - i[1])**2 for i in cpts]\n",
    "tmpidx = np.argmin(dtmp)\n",
    "s2x = cpts[tmpidx][0]\n",
    "s2y = cpts[tmpidx][1]\n",
    "\n",
    "print(\"重心1= ({} {}) 　最寄りの輪郭点= ({}, {})  \\n重心2= ({} {}) 　最寄りの輪郭点= ({}, {}) \".format(g1x,g1y,s1x,s1y, g2x,g2y,s2x,s2y ))"
   ]
  },
  {
   "cell_type": "code",
   "execution_count": 8,
   "metadata": {
    "collapsed": true
   },
   "outputs": [],
   "source": [
    "# 左右のマークから距離画像の距離最大の点まで距離の鞍部を辿る\n",
    "dist2 = copy(dist)\n",
    "PARA1=0.998   # 斜め移動の割引率　 0.8〜1.0  default 0.998\n",
    "PARA2=0.25     # 角度の偏移の排除基準  cos の値で指定　　０~１　　default 0.25\n",
    "                            #  目的方向と進行方向のなす角度の余弦がこの値より大きければ曲がりを許す\n",
    "skellist1 = rdl.traceRidges2(s1x,s1y,dist2, maxX,maxY,para1=PARA1,para2=PARA2)\n",
    "skellist1.append([maxX,maxY,dist2[maxY,maxX]])\n",
    "skel1 = np.array(skellist1)\n",
    "skel2 = np.array(rdl.traceRidges2(s2x,s2y,dist2, maxX,maxY,para1=PARA1, para2=PARA2))\n",
    "skel1 = skel1[skel1[:,0].argsort()]   # 念のために並べ替え\n",
    "skel2 = skel2[skel2[:,0].argsort()] \n",
    "skeldata = np.concatenate((skel1,skel2) )"
   ]
  },
  {
   "cell_type": "code",
   "execution_count": 9,
   "metadata": {
    "scrolled": false
   },
   "outputs": [
    {
     "data": {
      "image/png": "[encoded data removed]",
      "text/plain": [
       "<matplotlib.figure.Figure at 0x13726e080>"
      ]
     },
     "metadata": {},
     "output_type": "display_data"
    }
   ],
   "source": [
    "# スケルトンと\n",
    "def skelOnimg(skeldata,bwimg):\n",
    "    shape = (bwimg.shape[0],bwimg.shape[1],3)\n",
    "    img = cv2.merge((bwimg,bwimg,bwimg))\n",
    "    for i in range (len(skeldata)):\n",
    "        cv2.circle(img,(int(skeldata[i][0]),int(skeldata[i][1])),3,(0,0,255),-1)\n",
    "    return img \n",
    "\n",
    "# えられたスケルトン上の各点から距離データ分の円を描いて復元した図\n",
    "# 右側の軸対称でない部分が復元できないが、この方法ではこうなるのは仕方ない\n",
    "recallimg = skelOnimg(skeldata,bw)\n",
    "rdl.plotimg(recallimg)\n",
    "plt.show()\n"
   ]
  },
  {
   "cell_type": "code",
   "execution_count": 10,
   "metadata": {
    "scrolled": true
   },
   "outputs": [
    {
     "name": "stdout",
     "output_type": "stream",
     "text": [
      "基準点 2700.0 475.0\n",
      "2907.0 593.0\n",
      "2108\n"
     ]
    }
   ],
   "source": [
    "skd = skeldata\n",
    "# 黒画素から最も距離のある，内部の点を基準点として選ぶ\n",
    "normP = np.argmax(skd[:,2])\n",
    "xnorm = skd[normP][0]\n",
    "ynorm = skd[normP][1]\n",
    "print (\"基準点\", xnorm,ynorm)\n",
    "print(np.max(skd[:,0]), np.max(skd[:1]))\n",
    "print(normP)"
   ]
  },
  {
   "cell_type": "code",
   "execution_count": 11,
   "metadata": {},
   "outputs": [
    {
     "name": "stdout",
     "output_type": "stream",
     "text": [
      "基準点 2108 ( 2700.0 475.0 )\n"
     ]
    }
   ],
   "source": [
    "# 基準点からの距離の配列を生成\n",
    "distance = np.array([np.sign(x-xnorm)*np.sqrt((x-xnorm)**2 + (y - ynorm)**2)  for (x,y) in skd[:,0:2]] ) \n",
    "# 縦向きの画像の場合は sign(y-ynom) ，横ならば sign(x-xnorm)\n",
    "\n",
    "#基準点からの距離でインデックスを並べ替え\n",
    "index = np.argsort(distance) # 距離順にインデックスを並べ替え\n",
    "skd = skd[index] # スケルトンデータを距離順に並べ替え\n",
    "distance = distance[index] # 距離データも並べ替え\n",
    "skdp = np.array([list(np.append(s,d)) for (s,d) in zip(skd,distance)])\n",
    "# skpd はスケルトンの(x座標,y座標,輪郭までの距離,基準点からの距離)のリスト\n",
    "\n",
    "#  並べ替えたので基準点のインデックスを再度調べ直す\n",
    "normP = np.argmax(skd[:,2])\n",
    "print (u'基準点',normP,'(',xnorm,ynorm,')')"
   ]
  },
  {
   "cell_type": "markdown",
   "metadata": {},
   "source": [
    "（解説）径の一番太い位置の中心を基準点 normP として選び、その点からの距離でスケルトン画素を並べ換える。\n",
    "もしスケルトンが直線状に並んでいるのならば求めた距離は中心軸に沿った距離に等しいが、湾曲している場合、\n",
    "基準点からの直線距離と軸に沿って測った距離は基準から離れるほどズレが生じてくる。\n",
    "\n",
    "形状を評価する場合、湾曲を補正した形状を求める必要があるが、それには直線距離ではなく、\n",
    "軸に沿って測った距離を使うほうが適切である。\n",
    "\n",
    "理屈の上では軸に沿って距離を積分、つまり積算していけばよいが、デジタル画像の場合近い点の距離は誤差が大きい。\n",
    "例えば斜め45度に並ぶ点列の距離は1点ずつ距離を積算してしまうと実際の距離のルート２倍になってしまう。\n",
    "\n",
    "そこで、曲がりが少ないであろう、１０点ごとに距離を測る基準点を設定し、\n",
    "（基準点間距離＋最寄りの基準点からの距離）で、軸に沿った距離を近似する。"
   ]
  },
  {
   "cell_type": "code",
   "execution_count": 12,
   "metadata": {},
   "outputs": [
    {
     "name": "stdout",
     "output_type": "stream",
     "text": [
      "左側修正量 242.07708231381775 (-2122.016258184654 -> -2364.0933404984717)\n",
      "右側修正量 5.036900713735008 (208.50419660045213 -> 213.54109731418714)\n"
     ]
    }
   ],
   "source": [
    "rdl.recalcDistanceP(skdp,normP)"
   ]
  },
  {
   "cell_type": "code",
   "execution_count": 13,
   "metadata": {
    "scrolled": false
   },
   "outputs": [
    {
     "name": "stderr",
     "output_type": "stream",
     "text": [
      "/Users/dan/anaconda/lib/python3.6/site-packages/ipykernel_launcher.py:10: MatplotlibDeprecationWarning: pyplot.hold is deprecated.\n",
      "    Future behavior will be consistent with the long-time default:\n",
      "    plot commands add elements without first clearing the\n",
      "    Axes and/or Figure.\n",
      "  # Remove the CWD from sys.path while we load stuff.\n",
      "/Users/dan/anaconda/lib/python3.6/site-packages/matplotlib/__init__.py:917: UserWarning: axes.hold is deprecated. Please remove it from your matplotlibrc and/or style files.\n",
      "  warnings.warn(self.msg_depr_set % key)\n",
      "/Users/dan/anaconda/lib/python3.6/site-packages/matplotlib/rcsetup.py:152: UserWarning: axes.hold is deprecated, will be removed in 3.0\n",
      "  warnings.warn(\"axes.hold is deprecated, will be removed in 3.0\")\n",
      "/Users/dan/anaconda/lib/python3.6/site-packages/ipykernel_launcher.py:19: MatplotlibDeprecationWarning: pyplot.hold is deprecated.\n",
      "    Future behavior will be consistent with the long-time default:\n",
      "    plot commands add elements without first clearing the\n",
      "    Axes and/or Figure.\n"
     ]
    },
    {
     "data": {
      "image/png": "[encoded data removed]",
      "text/plain": [
       "<matplotlib.figure.Figure at 0x130448160>"
      ]
     },
     "metadata": {},
     "output_type": "display_data"
    }
   ],
   "source": [
    "# @interact(invert=False)\n",
    "def radiusfunc(invert=True):\n",
    "    if invert:\n",
    "        for d in skdp: d[3]=-d[3]\n",
    "    skdN = skdp[skdp[:,3]<= 0] # 基準点より左のデータ\n",
    "    skdP = skdp[skdp[:,3] > 0] # 基準点より右のデータ\n",
    "    \n",
    "    # 横軸を基点からのスケルトン位置までの距離，縦軸をそのスケルトンの距離データとしたグラフ                          \n",
    "    plt.axis('equal')    \n",
    "    plt.hold(True)\n",
    "    ydata = np.array(skdN[:,2])\n",
    "    xdata = np.array(skdN[:,3])\n",
    "    plt.plot(xdata,ydata,'-',color=(1,0,0.0))\n",
    "    plt.plot(xdata,-ydata,'-',color=(1,0,0.0))\n",
    "    ydata = np.array(skdP[:,2])\n",
    "    xdata = np.array(skdP[:,3])\n",
    "    plt.plot(xdata,ydata,'-',color=(0,0,1.0))\n",
    "    plt.plot(xdata,-ydata,'-',color=(0,0,1.0))\n",
    "    plt.hold(False)\n",
    "    plt.show()\n",
    "    \n",
    "    \n",
    "    # invert で再描画する際には、グラフの描画を一旦停止すること。\n",
    "    # 停止しないと描画されないので注意。\n",
    "    \n",
    "radiusfunc(invert=False)\n"
   ]
  },
  {
   "cell_type": "code",
   "execution_count": 14,
   "metadata": {
    "scrolled": false
   },
   "outputs": [
    {
     "name": "stdout",
     "output_type": "stream",
     "text": [
      "中心軸の画素数=2317\n"
     ]
    },
    {
     "data": {
      "image/png": "[encoded data removed]",
      "text/plain": [
       "<matplotlib.figure.Figure at 0x106b889e8>"
      ]
     },
     "metadata": {},
     "output_type": "display_data"
    }
   ],
   "source": [
    "# 中心線を直線化して形状整形した画像の生成\n",
    "norzimg = rdl.makeNormalizedImage(skdp)\n",
    "rdl.plotimg(norzimg)"
   ]
  },
  {
   "cell_type": "code",
   "execution_count": 15,
   "metadata": {
    "scrolled": true
   },
   "outputs": [
    {
     "data": {
      "image/png": "[encoded data removed]",
      "text/plain": [
       "<matplotlib.figure.Figure at 0x12f7f3b00>"
      ]
     },
     "metadata": {},
     "output_type": "display_data"
    }
   ],
   "source": [
    "# 輪郭線の抽出\n",
    "bw,cnt = rdl.getContour(norzimg,0)\n",
    "cv2.drawContours(bw, cnt, 0, (255,255,255), 1)\n",
    "rdl.plotimg(bw)"
   ]
  },
  {
   "cell_type": "code",
   "execution_count": 16,
   "metadata": {},
   "outputs": [
    {
     "data": {
      "text/plain": [
       "[<matplotlib.lines.Line2D at 0x12a02a4e0>]"
      ]
     },
     "execution_count": 16,
     "metadata": {},
     "output_type": "execute_result"
    },
    {
     "data": {
      "image/png": "[encoded data removed]",
      "text/plain": [
       "<matplotlib.figure.Figure at 0x106c25a20>"
      ]
     },
     "metadata": {},
     "output_type": "display_data"
    }
   ],
   "source": [
    "# 先端部分だけの点列の生成\n",
    "bw,cnt = rdl.getContour(norzimg,2)\n",
    "xdata = [i[0][0]  for i in cnt[0]]\n",
    "ydata = [i[0][1]- bw.shape[0]/2 for i in cnt[0]] \n",
    "plt.gca().set_aspect('equal',adjustable='box')\n",
    "plt.plot(xdata,ydata,\"r\")"
   ]
  },
  {
   "cell_type": "code",
   "execution_count": 17,
   "metadata": {
    "scrolled": false
   },
   "outputs": [
    {
     "data": {
      "text/plain": [
       "[<matplotlib.lines.Line2D at 0x12dbc6c18>]"
      ]
     },
     "execution_count": 17,
     "metadata": {},
     "output_type": "execute_result"
    },
    {
     "data": {
      "image/png": "[encoded data removed]",
      "text/plain": [
       "<matplotlib.figure.Figure at 0x137267048>"
      ]
     },
     "metadata": {},
     "output_type": "display_data"
    }
   ],
   "source": [
    "# 最大径を基準に正規化\n",
    "xdataR = np.array(xdata)/maxR \n",
    "ydataR= np.array(ydata)/maxR\n",
    "xdataR,ydataR = rdl.shiftX(xdataR,ydataR,1/3)    # y = 1/3 付近が x=0 になるようにデータ全体をｘ軸に沿ってシフト\n",
    "plt.gca().set_aspect('equal',adjustable='box')\n",
    "plt.plot(xdataR,ydataR,\"r\")"
   ]
  },
  {
   "cell_type": "code",
   "execution_count": 18,
   "metadata": {
    "scrolled": false
   },
   "outputs": [
    {
     "ename": "AttributeError",
     "evalue": "module 'tensorflow' has no attribute 'sub'",
     "output_type": "error",
     "traceback": [
      "\u001b[0;31m---------------------------------------------------------------------------\u001b[0m",
      "\u001b[0;31mAttributeError\u001b[0m                            Traceback (most recent call last)",
      "\u001b[0;32m<ipython-input-18-3027ffbffd64>\u001b[0m in \u001b[0;36m<module>\u001b[0;34m()\u001b[0m\n\u001b[1;32m      1\u001b[0m \u001b[0;32mfrom\u001b[0m \u001b[0mfit1\u001b[0m \u001b[0;32mimport\u001b[0m \u001b[0mfit1\u001b[0m\u001b[0;34m\u001b[0m\u001b[0m\n\u001b[0;32m----> 2\u001b[0;31m \u001b[0mfit1\u001b[0m\u001b[0;34m(\u001b[0m\u001b[0;34m(\u001b[0m\u001b[0mxdataR\u001b[0m\u001b[0;34m,\u001b[0m\u001b[0mydataR\u001b[0m\u001b[0;34m)\u001b[0m\u001b[0;34m,\u001b[0m\u001b[0mitr\u001b[0m \u001b[0;34m=\u001b[0m \u001b[0;36m2000\u001b[0m\u001b[0;34m,\u001b[0m \u001b[0malpha\u001b[0m\u001b[0;34m=\u001b[0m\u001b[0;36m1.0\u001b[0m\u001b[0;34m,\u001b[0m \u001b[0mxmin\u001b[0m\u001b[0;34m=\u001b[0m\u001b[0;34m-\u001b[0m\u001b[0;36m3\u001b[0m\u001b[0;34m,\u001b[0m \u001b[0mxmax\u001b[0m\u001b[0;34m=\u001b[0m\u001b[0;36m1\u001b[0m\u001b[0;34m,\u001b[0m\u001b[0mcutoff\u001b[0m\u001b[0;34m=\u001b[0m\u001b[0;36m0.2\u001b[0m\u001b[0;34m)\u001b[0m\u001b[0;34m\u001b[0m\u001b[0m\n\u001b[0m\u001b[1;32m      3\u001b[0m \u001b[0;34m\u001b[0m\u001b[0m\n\u001b[1;32m      4\u001b[0m \u001b[0;31m# 原因はわからないが，１度目は描画に失敗するようである．２回目はうまくいく．\u001b[0m\u001b[0;34m\u001b[0m\u001b[0;34m\u001b[0m\u001b[0m\n",
      "\u001b[0;32m~/GitHub/radishLab/daikon2/fit1.py\u001b[0m in \u001b[0;36mfit1\u001b[0;34m(data, itr, alpha, xmin, xmax, cutoff)\u001b[0m\n\u001b[1;32m     34\u001b[0m \u001b[0;34m\u001b[0m\u001b[0m\n\u001b[1;32m     35\u001b[0m     \u001b[0;31m# 目的関数の設定。平均自乗誤差の最小化\u001b[0m\u001b[0;34m\u001b[0m\u001b[0;34m\u001b[0m\u001b[0m\n\u001b[0;32m---> 36\u001b[0;31m     \u001b[0mmserror\u001b[0m \u001b[0;34m=\u001b[0m \u001b[0mtf\u001b[0m\u001b[0;34m.\u001b[0m\u001b[0mreduce_mean\u001b[0m\u001b[0;34m(\u001b[0m\u001b[0mtf\u001b[0m\u001b[0;34m.\u001b[0m\u001b[0msquare\u001b[0m\u001b[0;34m(\u001b[0m\u001b[0mmodel\u001b[0m\u001b[0;34m(\u001b[0m\u001b[0ma\u001b[0m\u001b[0;34m,\u001b[0m\u001b[0mb\u001b[0m\u001b[0;34m,\u001b[0m\u001b[0mx\u001b[0m\u001b[0;34m)\u001b[0m \u001b[0;34m-\u001b[0m \u001b[0my\u001b[0m\u001b[0;34m)\u001b[0m\u001b[0;34m)\u001b[0m\u001b[0;34m\u001b[0m\u001b[0m\n\u001b[0m\u001b[1;32m     37\u001b[0m     \u001b[0;31m# 最適化手法の設定。最急降下法　alpha はいわゆる学習係数　適当\u001b[0m\u001b[0;34m\u001b[0m\u001b[0;34m\u001b[0m\u001b[0m\n\u001b[1;32m     38\u001b[0m     \u001b[0moptimizer\u001b[0m \u001b[0;34m=\u001b[0m \u001b[0mtf\u001b[0m\u001b[0;34m.\u001b[0m\u001b[0mtrain\u001b[0m\u001b[0;34m.\u001b[0m\u001b[0mGradientDescentOptimizer\u001b[0m\u001b[0;34m(\u001b[0m\u001b[0malpha\u001b[0m\u001b[0;34m)\u001b[0m\u001b[0;34m\u001b[0m\u001b[0m\n",
      "\u001b[0;32m~/GitHub/radishLab/daikon2/fit1.py\u001b[0m in \u001b[0;36mmodel\u001b[0;34m(a, b, x)\u001b[0m\n\u001b[1;32m     28\u001b[0m \u001b[0;34m\u001b[0m\u001b[0m\n\u001b[1;32m     29\u001b[0m     \u001b[0;32mdef\u001b[0m \u001b[0mmodel\u001b[0m\u001b[0;34m(\u001b[0m\u001b[0ma\u001b[0m\u001b[0;34m,\u001b[0m\u001b[0mb\u001b[0m\u001b[0;34m,\u001b[0m\u001b[0mx\u001b[0m\u001b[0;34m)\u001b[0m\u001b[0;34m:\u001b[0m  \u001b[0;31m# 1/(1+exp(-a*(x-b)))\u001b[0m\u001b[0;34m\u001b[0m\u001b[0m\n\u001b[0;32m---> 30\u001b[0;31m         \u001b[0mret\u001b[0m \u001b[0;34m=\u001b[0m \u001b[0mtf\u001b[0m\u001b[0;34m.\u001b[0m\u001b[0msub\u001b[0m\u001b[0;34m(\u001b[0m\u001b[0mx\u001b[0m\u001b[0;34m,\u001b[0m\u001b[0mb\u001b[0m\u001b[0;34m)\u001b[0m\u001b[0;34m\u001b[0m\u001b[0m\n\u001b[0m\u001b[1;32m     31\u001b[0m         \u001b[0mret\u001b[0m \u001b[0;34m=\u001b[0m \u001b[0mtf\u001b[0m\u001b[0;34m.\u001b[0m\u001b[0mexp\u001b[0m\u001b[0;34m(\u001b[0m\u001b[0;34m-\u001b[0m\u001b[0mtf\u001b[0m\u001b[0;34m.\u001b[0m\u001b[0mmul\u001b[0m\u001b[0;34m(\u001b[0m\u001b[0ma\u001b[0m\u001b[0;34m,\u001b[0m\u001b[0mret\u001b[0m\u001b[0;34m)\u001b[0m\u001b[0;34m)\u001b[0m\u001b[0;34m\u001b[0m\u001b[0m\n\u001b[1;32m     32\u001b[0m         \u001b[0mret\u001b[0m \u001b[0;34m=\u001b[0m \u001b[0mtf\u001b[0m\u001b[0;34m.\u001b[0m\u001b[0mdiv\u001b[0m\u001b[0;34m(\u001b[0m\u001b[0;36m1.0\u001b[0m\u001b[0;34m,\u001b[0m\u001b[0mtf\u001b[0m\u001b[0;34m.\u001b[0m\u001b[0madd\u001b[0m\u001b[0;34m(\u001b[0m\u001b[0;36m1.0\u001b[0m\u001b[0;34m,\u001b[0m\u001b[0mret\u001b[0m\u001b[0;34m)\u001b[0m\u001b[0;34m)\u001b[0m\u001b[0;34m\u001b[0m\u001b[0m\n",
      "\u001b[0;31mAttributeError\u001b[0m: module 'tensorflow' has no attribute 'sub'"
     ]
    }
   ],
   "source": [
    "from fit1 import fit1\n",
    "fit1((xdataR,ydataR),itr = 2000, alpha=1.0, xmin=-3, xmax=1,cutoff=0.2)\n",
    "\n",
    "# 原因はわからないが，１度目は描画に失敗するようである．２回目はうまくいく．"
   ]
  },
  {
   "cell_type": "code",
   "execution_count": null,
   "metadata": {
    "collapsed": true
   },
   "outputs": [],
   "source": []
  },
  {
   "cell_type": "code",
   "execution_count": null,
   "metadata": {
    "collapsed": true
   },
   "outputs": [],
   "source": []
  },
  {
   "cell_type": "code",
   "execution_count": null,
   "metadata": {
    "collapsed": true
   },
   "outputs": [],
   "source": []
  },
  {
   "cell_type": "code",
   "execution_count": null,
   "metadata": {
    "collapsed": true
   },
   "outputs": [],
   "source": []
  }
 ],
 "metadata": {
  "_draft": {
   "nbviewer_url": "https://gist.github.com/bbaabe676dc7c65fa48c92cf4a65077a"
  },
  "anaconda-cloud": {},
  "gist": {
   "data": {
    "description": "daikon/ダイコン形状抽出＆記述 インタラクティブ版 smart .ipynb",
    "public": true
   },
   "id": "bbaabe676dc7c65fa48c92cf4a65077a"
  },
  "kernelspec": {
   "display_name": "Python 3",
   "language": "python",
   "name": "python3"
  },
  "language_info": {
   "codemirror_mode": {
    "name": "ipython",
    "version": 3
   },
   "file_extension": ".py",
   "mimetype": "text/x-python",
   "name": "python",
   "nbconvert_exporter": "python",
   "pygments_lexer": "ipython3",
   "version": "3.6.2"
  },
  "latex_envs": {
   "bibliofile": "biblio.bib",
   "cite_by": "apalike",
   "current_citInitial": 1,
   "eqLabelWithNumbers": true,
   "eqNumInitial": 0
  }
 },
 "nbformat": 4,
 "nbformat_minor": 1
}
